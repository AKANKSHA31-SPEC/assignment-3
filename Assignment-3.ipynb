{
 "cells": [
  {
   "cell_type": "markdown",
   "metadata": {},
   "source": [
    "# ASSIGNMENT-3"
   ]
  },
  {
   "cell_type": "markdown",
   "metadata": {},
   "source": [
    "# Ques-1"
   ]
  },
  {
   "cell_type": "code",
   "execution_count": 41,
   "metadata": {},
   "outputs": [],
   "source": [
    "#Write a python program which searches all the product under a particular product from\n",
    "#www.amazon.in. The product name to be searched will be taken as input from user. For e.g. If\n",
    "#user input is ‘guitar’. Then search for guitars"
   ]
  },
  {
   "cell_type": "code",
   "execution_count": 42,
   "metadata": {},
   "outputs": [
    {
     "name": "stdout",
     "output_type": "stream",
     "text": [
      "Requirement already satisfied: selenium in c:\\programdata\\anaconda3\\lib\\site-packages (3.141.0)\n",
      "Requirement already satisfied: urllib3 in c:\\programdata\\anaconda3\\lib\\site-packages (from selenium) (1.25.11)\n"
     ]
    }
   ],
   "source": [
    "! pip install selenium"
   ]
  },
  {
   "cell_type": "code",
   "execution_count": 43,
   "metadata": {},
   "outputs": [],
   "source": [
    "import selenium\n",
    "import pandas as pd\n",
    "from selenium import webdriver"
   ]
  },
  {
   "cell_type": "code",
   "execution_count": 44,
   "metadata": {},
   "outputs": [],
   "source": [
    "driver = webdriver.Chrome(\"E:\\chromedriver.exe\")"
   ]
  },
  {
   "cell_type": "code",
   "execution_count": 45,
   "metadata": {},
   "outputs": [],
   "source": [
    "url=\"https://www.amazon.in\""
   ]
  },
  {
   "cell_type": "code",
   "execution_count": 46,
   "metadata": {},
   "outputs": [],
   "source": [
    "driver.get(url)"
   ]
  },
  {
   "cell_type": "code",
   "execution_count": 47,
   "metadata": {},
   "outputs": [],
   "source": [
    "search_field_designation=driver.find_element_by_id(\"twotabsearchtextbox\")\n",
    "search_field_designation.send_keys(\"Guitar\")"
   ]
  },
  {
   "cell_type": "code",
   "execution_count": 48,
   "metadata": {},
   "outputs": [],
   "source": [
    "# clicking the search button\n",
    "search_button=driver.find_element_by_xpath(\"//div[@class='nav-search-submit nav-sprite']\")\n",
    "search_button.click()"
   ]
  },
  {
   "cell_type": "code",
   "execution_count": 49,
   "metadata": {},
   "outputs": [],
   "source": [
    "Brand=[]\n",
    "Price=[]\n",
    "Rating=[]"
   ]
  },
  {
   "cell_type": "code",
   "execution_count": 50,
   "metadata": {},
   "outputs": [
    {
     "data": {
      "text/plain": [
       "['Kadence Frontier Jumbo Semi Acoustic Guitar With Die Cast Keys,Super Combo (Bag, 1 pack Strings, Strap, Picks, Capo, Tuner (black & stand)',\n",
       " 'Kadence Slowhand Premium Jumbo Semi Acoustic Guitar with Heavy Padded Bag, guitar cable, Pro Capo and Fibre guitar stand (Black Spruce Wood)',\n",
       " 'Intern INT-38C Acoustic Guitar Kit (Sunburst)',\n",
       " 'Juârez Acoustic Guitar, 38 Inch Cutaway, 038C with Bag, Strings, Pick and Strap, Black',\n",
       " 'Juârez Acoustic Guitar, 38 Inch Cutaway, 038C with Bag, Strings, Pick and Strap, Black',\n",
       " 'Juarez JRZ38C Acoustic Guitar, 38 Inch Cutaway with Bag (TBS Transparent Blue Sunburst)',\n",
       " 'Intern INT-38C Acoustic Guitar Kit, With Bag, Strings, Pick And Strap, Black',\n",
       " 'Juârez Acoustic Guitar, 38 Inch Cutaway, 038C with Bag, Strings, Pick and Strap, Black',\n",
       " 'Intern INT-38C Acoustic Guitar Kit, With Bag, Strings, Pick And Strap, Red',\n",
       " '']"
      ]
     },
     "execution_count": 50,
     "metadata": {},
     "output_type": "execute_result"
    }
   ],
   "source": [
    "Brand_discription=driver.find_elements_by_xpath(\"//span[@class='a-size-base-plus a-color-base a-text-normal']\")\n",
    "for i in Brand_discription:\n",
    "    if i.text is None :\n",
    "        Brand.append(\"--\") \n",
    "    else:\n",
    "        Brand.append(i.text)\n",
    "    \n",
    "Brand[0:10]"
   ]
  },
  {
   "cell_type": "code",
   "execution_count": 51,
   "metadata": {},
   "outputs": [
    {
     "data": {
      "text/plain": [
       "['6,499',\n",
       " '5,999',\n",
       " '5,999',\n",
       " '9,999',\n",
       " '2,349',\n",
       " '2,499',\n",
       " '2,499',\n",
       " '2,499',\n",
       " '2,149',\n",
       " '2,499']"
      ]
     },
     "execution_count": 51,
     "metadata": {},
     "output_type": "execute_result"
    }
   ],
   "source": [
    "PRICE=driver.find_elements_by_xpath(\"//span[@class='a-price-whole']\")\n",
    "for i in PRICE:\n",
    "    if i.text is None :\n",
    "        Price.append(\"--\") \n",
    "    else:\n",
    "        Price.append(i.text)\n",
    "    \n",
    "Price[0:10]"
   ]
  },
  {
   "cell_type": "code",
   "execution_count": 52,
   "metadata": {},
   "outputs": [
    {
     "data": {
      "text/html": [
       "<div>\n",
       "<style scoped>\n",
       "    .dataframe tbody tr th:only-of-type {\n",
       "        vertical-align: middle;\n",
       "    }\n",
       "\n",
       "    .dataframe tbody tr th {\n",
       "        vertical-align: top;\n",
       "    }\n",
       "\n",
       "    .dataframe thead th {\n",
       "        text-align: right;\n",
       "    }\n",
       "</style>\n",
       "<table border=\"1\" class=\"dataframe\">\n",
       "  <thead>\n",
       "    <tr style=\"text-align: right;\">\n",
       "      <th></th>\n",
       "      <th>Brand Description</th>\n",
       "      <th>PRICE</th>\n",
       "    </tr>\n",
       "  </thead>\n",
       "  <tbody>\n",
       "    <tr>\n",
       "      <th>0</th>\n",
       "      <td>Kadence Frontier Jumbo Semi Acoustic Guitar Wi...</td>\n",
       "      <td>6,499</td>\n",
       "    </tr>\n",
       "    <tr>\n",
       "      <th>1</th>\n",
       "      <td>Kadence Slowhand Premium Jumbo Semi Acoustic G...</td>\n",
       "      <td>5,999</td>\n",
       "    </tr>\n",
       "    <tr>\n",
       "      <th>2</th>\n",
       "      <td>Intern INT-38C Acoustic Guitar Kit (Sunburst)</td>\n",
       "      <td>5,999</td>\n",
       "    </tr>\n",
       "    <tr>\n",
       "      <th>3</th>\n",
       "      <td>Juârez Acoustic Guitar, 38 Inch Cutaway, 038C ...</td>\n",
       "      <td>9,999</td>\n",
       "    </tr>\n",
       "    <tr>\n",
       "      <th>4</th>\n",
       "      <td>Juârez Acoustic Guitar, 38 Inch Cutaway, 038C ...</td>\n",
       "      <td>2,349</td>\n",
       "    </tr>\n",
       "    <tr>\n",
       "      <th>...</th>\n",
       "      <td>...</td>\n",
       "      <td>...</td>\n",
       "    </tr>\n",
       "    <tr>\n",
       "      <th>57</th>\n",
       "      <td>Cort SFX-MEM Electro Acoustic Guitar - Open Pore</td>\n",
       "      <td>12,999</td>\n",
       "    </tr>\n",
       "    <tr>\n",
       "      <th>58</th>\n",
       "      <td>Kordz Luana Natural Wooden 41 Inch Rosewood Fr...</td>\n",
       "      <td>3,690</td>\n",
       "    </tr>\n",
       "    <tr>\n",
       "      <th>59</th>\n",
       "      <td>AARVI MART 4 String Musical Guitar for Kids In...</td>\n",
       "      <td>899</td>\n",
       "    </tr>\n",
       "    <tr>\n",
       "      <th>60</th>\n",
       "      <td>Juarez JRZ38C Acoustic Guitar, 38 Inch Cutaway...</td>\n",
       "      <td>2,499</td>\n",
       "    </tr>\n",
       "    <tr>\n",
       "      <th>61</th>\n",
       "      <td>ITAPALJI String Acoustic Guitar | Adjustable T...</td>\n",
       "      <td>759</td>\n",
       "    </tr>\n",
       "  </tbody>\n",
       "</table>\n",
       "<p>62 rows × 2 columns</p>\n",
       "</div>"
      ],
      "text/plain": [
       "                                    Brand Description   PRICE\n",
       "0   Kadence Frontier Jumbo Semi Acoustic Guitar Wi...   6,499\n",
       "1   Kadence Slowhand Premium Jumbo Semi Acoustic G...   5,999\n",
       "2       Intern INT-38C Acoustic Guitar Kit (Sunburst)   5,999\n",
       "3   Juârez Acoustic Guitar, 38 Inch Cutaway, 038C ...   9,999\n",
       "4   Juârez Acoustic Guitar, 38 Inch Cutaway, 038C ...   2,349\n",
       "..                                                ...     ...\n",
       "57   Cort SFX-MEM Electro Acoustic Guitar - Open Pore  12,999\n",
       "58  Kordz Luana Natural Wooden 41 Inch Rosewood Fr...   3,690\n",
       "59  AARVI MART 4 String Musical Guitar for Kids In...     899\n",
       "60  Juarez JRZ38C Acoustic Guitar, 38 Inch Cutaway...   2,499\n",
       "61  ITAPALJI String Acoustic Guitar | Adjustable T...     759\n",
       "\n",
       "[62 rows x 2 columns]"
      ]
     },
     "execution_count": 52,
     "metadata": {},
     "output_type": "execute_result"
    }
   ],
   "source": [
    "Guitar=pd.DataFrame({})\n",
    "Guitar[\"Brand Description\"]=Brand[0:62]\n",
    "Guitar[\"PRICE\"]=Price[0:62]\n",
    "Guitar"
   ]
  },
  {
   "cell_type": "code",
   "execution_count": 53,
   "metadata": {},
   "outputs": [],
   "source": [
    "driver.close()"
   ]
  },
  {
   "cell_type": "markdown",
   "metadata": {},
   "source": [
    "# Ques 3"
   ]
  },
  {
   "cell_type": "code",
   "execution_count": 54,
   "metadata": {},
   "outputs": [],
   "source": [
    "#Write a python program to access the search bar and search button on images.google.com and\n",
    "#scrape 100 images each for keywords ‘fruits’, ‘cars’ and ‘Machine Learning’"
   ]
  },
  {
   "cell_type": "code",
   "execution_count": 55,
   "metadata": {},
   "outputs": [
    {
     "name": "stdout",
     "output_type": "stream",
     "text": [
      "Requirement already satisfied: selenium in c:\\programdata\\anaconda3\\lib\\site-packages (3.141.0)\n",
      "Requirement already satisfied: urllib3 in c:\\programdata\\anaconda3\\lib\\site-packages (from selenium) (1.25.11)\n"
     ]
    }
   ],
   "source": [
    "! pip install selenium"
   ]
  },
  {
   "cell_type": "code",
   "execution_count": 56,
   "metadata": {},
   "outputs": [],
   "source": [
    "import selenium\n",
    "import pandas as pd\n",
    "from selenium import webdriver"
   ]
  },
  {
   "cell_type": "code",
   "execution_count": 57,
   "metadata": {},
   "outputs": [],
   "source": [
    "driver = webdriver.Chrome(r\"E:\\chromedriver.exe\")"
   ]
  },
  {
   "cell_type": "code",
   "execution_count": 58,
   "metadata": {},
   "outputs": [],
   "source": [
    "#url=\"images.google.com\""
   ]
  },
  {
   "cell_type": "code",
   "execution_count": 59,
   "metadata": {},
   "outputs": [],
   "source": [
    "driver.get(\"https://www.google.com/\")"
   ]
  },
  {
   "cell_type": "code",
   "execution_count": 60,
   "metadata": {},
   "outputs": [],
   "source": [
    "search_field_images=driver.find_element_by_xpath(\"//a[@data-pid='2']\")\n",
    "search_field_images.click()"
   ]
  },
  {
   "cell_type": "code",
   "execution_count": 61,
   "metadata": {},
   "outputs": [],
   "source": [
    "search_fruits = driver.find_element_by_xpath(\"//input[@title='Search']\")\n",
    "search_fruits.send_keys(\"fruits\")"
   ]
  },
  {
   "cell_type": "code",
   "execution_count": 62,
   "metadata": {},
   "outputs": [],
   "source": [
    "# clicking the search button\n",
    "search_button=driver.find_element_by_xpath(\"//span[@class='z1asCe MZy1Rb']\")\n",
    "search_button.click()"
   ]
  },
  {
   "cell_type": "code",
   "execution_count": 63,
   "metadata": {},
   "outputs": [],
   "source": [
    "fruits=[]"
   ]
  },
  {
   "cell_type": "code",
   "execution_count": 65,
   "metadata": {},
   "outputs": [
    {
     "ename": "IndentationError",
     "evalue": "unindent does not match any outer indentation level (<tokenize>, line 6)",
     "output_type": "error",
     "traceback": [
      "\u001b[1;36m  File \u001b[1;32m\"<tokenize>\"\u001b[1;36m, line \u001b[1;32m6\u001b[0m\n\u001b[1;33m    file=open(\"C:\\Users\\pc\\a.jpg\"+ str(i)+\".jpg\",\"wb\")\u001b[0m\n\u001b[1;37m    ^\u001b[0m\n\u001b[1;31mIndentationError\u001b[0m\u001b[1;31m:\u001b[0m unindent does not match any outer indentation level\n"
     ]
    }
   ],
   "source": [
    "for i in range(len(img-urls)):\n",
    "     if i>=100:\n",
    "                   break\n",
    "                   print(\"Downloading {0} of {1} images\".format(i,100))\n",
    "                   response= requests.get(img_urls[i])\n",
    "            file=open(\"C:\\Users\\pc\\a.jpg\"+ str(i)+\".jpg\",\"wb\")\n",
    "            file.write(response.content)\n",
    "    \n",
    "                              "
   ]
  },
  {
   "cell_type": "markdown",
   "metadata": {},
   "source": [
    "# Ques 4"
   ]
  },
  {
   "cell_type": "code",
   "execution_count": 66,
   "metadata": {},
   "outputs": [],
   "source": [
    "#Write a python program to search for a smartphone(e.g.: Oneplus Nord, pixel 4A, etc.) on\n",
    "#www.flipkart.com and scrape following details for all the search results displayed on 1st page.\n",
    "#Details to be scraped: “Brand Name”, “Smartphone name”, “Colour”, “RAM”,\n",
    "#“Storage(ROM)”, “Primary Camera”, “Secondary Camera”, “Display Size”, “Display\n",
    "#Resolution”, “Processor”, “Processor Cores”, “Battery Capacity”, “Price”, “Product URL”.\n",
    "#Incase if any of the details is missing then replace it by “- “. Save your results in a dataframe\n",
    "#and CSV."
   ]
  },
  {
   "cell_type": "code",
   "execution_count": 67,
   "metadata": {},
   "outputs": [],
   "source": [
    "import selenium\n",
    "import pandas as pd\n",
    "from selenium import webdriver"
   ]
  },
  {
   "cell_type": "code",
   "execution_count": 68,
   "metadata": {},
   "outputs": [],
   "source": [
    "driver = webdriver.Chrome(r\"E:\\chromedriver.exe\")"
   ]
  },
  {
   "cell_type": "code",
   "execution_count": 69,
   "metadata": {},
   "outputs": [],
   "source": [
    "url=\"https://www.flipkart.com/\""
   ]
  },
  {
   "cell_type": "code",
   "execution_count": 70,
   "metadata": {},
   "outputs": [],
   "source": [
    "driver.get(url)"
   ]
  },
  {
   "cell_type": "code",
   "execution_count": 71,
   "metadata": {},
   "outputs": [],
   "source": [
    "search_smartphone = driver.find_element_by_xpath(\"//input[@class='_3704LK']\")\n",
    "search_smartphone.send_keys(\"Smartphone\")"
   ]
  },
  {
   "cell_type": "code",
   "execution_count": 72,
   "metadata": {},
   "outputs": [],
   "source": [
    "button_class= driver.find_element_by_xpath(\"//button[@class='_2KpZ6l _2doB4z']\")\n",
    "button_class.click()"
   ]
  },
  {
   "cell_type": "code",
   "execution_count": 73,
   "metadata": {},
   "outputs": [],
   "source": [
    "login_button= driver.find_element_by_xpath(\"//button[@class='L0Z3Pu']\")\n",
    "login_button.click()"
   ]
  },
  {
   "cell_type": "code",
   "execution_count": 90,
   "metadata": {},
   "outputs": [],
   "source": [
    "Brand_Name=[]\n",
    "RAM=[]\n",
    "Price=[]"
   ]
  },
  {
   "cell_type": "code",
   "execution_count": 91,
   "metadata": {},
   "outputs": [],
   "source": [
    "\n",
    "for b in driver.find_elements_by_xpath(\"//div[@class='_4rR01T']\"):\n",
    "    Brand_Name.append(b.text)\n",
    "for e in driver.find_elements_by_xpath(\"//li[@class='rgWa7D']\"):\n",
    "    RAM.append(e.text) \n",
    "for c in driver.find_elements_by_xpath(\"//div[@class='_30jeq3 _1_WHN1']\"):\n",
    "    Price.append(c.text)\n",
    "    "
   ]
  },
  {
   "cell_type": "code",
   "execution_count": 92,
   "metadata": {},
   "outputs": [
    {
     "data": {
      "text/html": [
       "<div>\n",
       "<style scoped>\n",
       "    .dataframe tbody tr th:only-of-type {\n",
       "        vertical-align: middle;\n",
       "    }\n",
       "\n",
       "    .dataframe tbody tr th {\n",
       "        vertical-align: top;\n",
       "    }\n",
       "\n",
       "    .dataframe thead th {\n",
       "        text-align: right;\n",
       "    }\n",
       "</style>\n",
       "<table border=\"1\" class=\"dataframe\">\n",
       "  <thead>\n",
       "    <tr style=\"text-align: right;\">\n",
       "      <th></th>\n",
       "      <th>BRAND,SMARTPHONE NAME,COLOUR</th>\n",
       "      <th>STORAGE RAM &amp; ROM,CAMERA,DISPLAY,PROCESSOR,bATTERY</th>\n",
       "      <th>PRICE</th>\n",
       "    </tr>\n",
       "  </thead>\n",
       "  <tbody>\n",
       "    <tr>\n",
       "      <th>0</th>\n",
       "      <td>REDMI 9i (Midnight Black, 64 GB)</td>\n",
       "      <td>4 GB RAM | 64 GB ROM | Expandable Upto 512 GB</td>\n",
       "      <td>₹7,999</td>\n",
       "    </tr>\n",
       "    <tr>\n",
       "      <th>1</th>\n",
       "      <td>REDMI 9i (Sea Blue, 64 GB)</td>\n",
       "      <td>16.59 cm (6.53 inch) HD+ Display</td>\n",
       "      <td>₹7,999</td>\n",
       "    </tr>\n",
       "    <tr>\n",
       "      <th>2</th>\n",
       "      <td>REDMI 9i (Nature Green, 64 GB)</td>\n",
       "      <td>13MP Rear Camera | 5MP Front Camera</td>\n",
       "      <td>₹7,999</td>\n",
       "    </tr>\n",
       "    <tr>\n",
       "      <th>3</th>\n",
       "      <td>OPPO A12 (Blue, 64 GB)</td>\n",
       "      <td>5000 mAh Lithium Polymer Battery</td>\n",
       "      <td>₹8,990</td>\n",
       "    </tr>\n",
       "    <tr>\n",
       "      <th>4</th>\n",
       "      <td>OPPO A12 (Deep Blue, 32 GB)</td>\n",
       "      <td>MediaTek Helio G25 Processor</td>\n",
       "      <td>₹7,990</td>\n",
       "    </tr>\n",
       "    <tr>\n",
       "      <th>5</th>\n",
       "      <td>OPPO A12 (Blue, 32 GB)</td>\n",
       "      <td>Brand Warranty of 1 Year Available for Mobile ...</td>\n",
       "      <td>₹7,990</td>\n",
       "    </tr>\n",
       "    <tr>\n",
       "      <th>6</th>\n",
       "      <td>OPPO A12 (Deep Blue, 64 GB)</td>\n",
       "      <td>4 GB RAM | 64 GB ROM | Expandable Upto 512 GB</td>\n",
       "      <td>₹8,990</td>\n",
       "    </tr>\n",
       "    <tr>\n",
       "      <th>7</th>\n",
       "      <td>POCO M3 (Cool Blue, 64 GB)</td>\n",
       "      <td>16.59 cm (6.53 inch) HD+ Display</td>\n",
       "      <td>₹10,999</td>\n",
       "    </tr>\n",
       "    <tr>\n",
       "      <th>8</th>\n",
       "      <td>POCO M3 (Cool Blue, 128 GB)</td>\n",
       "      <td>13MP Rear Camera | 5MP Front Camera</td>\n",
       "      <td>₹11,999</td>\n",
       "    </tr>\n",
       "    <tr>\n",
       "      <th>9</th>\n",
       "      <td>realme C20 (Cool Blue, 32 GB)</td>\n",
       "      <td>5000 mAh Lithium Polymer Battery</td>\n",
       "      <td>₹6,799</td>\n",
       "    </tr>\n",
       "    <tr>\n",
       "      <th>10</th>\n",
       "      <td>realme C20 (Cool Grey, 32 GB)</td>\n",
       "      <td>MediaTek Helio G25 Processor</td>\n",
       "      <td>₹6,799</td>\n",
       "    </tr>\n",
       "    <tr>\n",
       "      <th>11</th>\n",
       "      <td>OPPO A12 (Flowing Silver, 32 GB)</td>\n",
       "      <td>Brand Warranty of 1 Year Available for Mobile ...</td>\n",
       "      <td>₹7,990</td>\n",
       "    </tr>\n",
       "    <tr>\n",
       "      <th>12</th>\n",
       "      <td>POCO M3 (Yellow, 64 GB)</td>\n",
       "      <td>4 GB RAM | 64 GB ROM | Expandable Upto 512 GB</td>\n",
       "      <td>₹10,999</td>\n",
       "    </tr>\n",
       "    <tr>\n",
       "      <th>13</th>\n",
       "      <td>POCO M3 (Power Black, 128 GB)</td>\n",
       "      <td>16.59 cm (6.53 inch) HD+ Display</td>\n",
       "      <td>₹11,999</td>\n",
       "    </tr>\n",
       "    <tr>\n",
       "      <th>14</th>\n",
       "      <td>POCO M3 (Power Black, 64 GB)</td>\n",
       "      <td>13MP Rear Camera | 5MP Front Camera</td>\n",
       "      <td>₹10,999</td>\n",
       "    </tr>\n",
       "    <tr>\n",
       "      <th>15</th>\n",
       "      <td>realme Narzo 30A (Laser Black, 64 GB)</td>\n",
       "      <td>5000 mAh Lithium Polymer Battery</td>\n",
       "      <td>₹9,499</td>\n",
       "    </tr>\n",
       "    <tr>\n",
       "      <th>16</th>\n",
       "      <td>realme Narzo 30A (Laser Black, 32 GB)</td>\n",
       "      <td>MediaTek Helio G25 Processor</td>\n",
       "      <td>₹8,499</td>\n",
       "    </tr>\n",
       "    <tr>\n",
       "      <th>17</th>\n",
       "      <td>realme C12 (Power Blue, 32 GB)</td>\n",
       "      <td>Brand Warranty of 1 Year Available for Mobile ...</td>\n",
       "      <td>₹7,999</td>\n",
       "    </tr>\n",
       "    <tr>\n",
       "      <th>18</th>\n",
       "      <td>realme C12 (Power Silver, 32 GB)</td>\n",
       "      <td>4 GB RAM | 64 GB ROM | Expandable Upto 256 GB</td>\n",
       "      <td>₹7,999</td>\n",
       "    </tr>\n",
       "    <tr>\n",
       "      <th>19</th>\n",
       "      <td>realme Narzo 20 (Glory Silver, 64 GB)</td>\n",
       "      <td>15.8 cm (6.22 inch) HD+ Display</td>\n",
       "      <td>₹10,499</td>\n",
       "    </tr>\n",
       "    <tr>\n",
       "      <th>20</th>\n",
       "      <td>realme Narzo 20 (Victory Blue, 64 GB)</td>\n",
       "      <td>13MP + 2MP | 5MP Front Camera</td>\n",
       "      <td>₹10,499</td>\n",
       "    </tr>\n",
       "    <tr>\n",
       "      <th>21</th>\n",
       "      <td>POCO C3 (Arctic Blue, 32 GB)</td>\n",
       "      <td>4230 mAh Battery</td>\n",
       "      <td>₹7,499</td>\n",
       "    </tr>\n",
       "    <tr>\n",
       "      <th>22</th>\n",
       "      <td>realme Narzo 30A (Laser Blue, 32 GB)</td>\n",
       "      <td>MediaTek Helio P35 Processor</td>\n",
       "      <td>₹8,499</td>\n",
       "    </tr>\n",
       "    <tr>\n",
       "      <th>23</th>\n",
       "      <td>realme Narzo 30A (Laser Blue, 64 GB)</td>\n",
       "      <td>Brand Warranty of 1 Year Available for Mobile ...</td>\n",
       "      <td>₹9,499</td>\n",
       "    </tr>\n",
       "  </tbody>\n",
       "</table>\n",
       "</div>"
      ],
      "text/plain": [
       "             BRAND,SMARTPHONE NAME,COLOUR  \\\n",
       "0        REDMI 9i (Midnight Black, 64 GB)   \n",
       "1              REDMI 9i (Sea Blue, 64 GB)   \n",
       "2          REDMI 9i (Nature Green, 64 GB)   \n",
       "3                  OPPO A12 (Blue, 64 GB)   \n",
       "4             OPPO A12 (Deep Blue, 32 GB)   \n",
       "5                  OPPO A12 (Blue, 32 GB)   \n",
       "6             OPPO A12 (Deep Blue, 64 GB)   \n",
       "7              POCO M3 (Cool Blue, 64 GB)   \n",
       "8             POCO M3 (Cool Blue, 128 GB)   \n",
       "9           realme C20 (Cool Blue, 32 GB)   \n",
       "10          realme C20 (Cool Grey, 32 GB)   \n",
       "11       OPPO A12 (Flowing Silver, 32 GB)   \n",
       "12                POCO M3 (Yellow, 64 GB)   \n",
       "13          POCO M3 (Power Black, 128 GB)   \n",
       "14           POCO M3 (Power Black, 64 GB)   \n",
       "15  realme Narzo 30A (Laser Black, 64 GB)   \n",
       "16  realme Narzo 30A (Laser Black, 32 GB)   \n",
       "17         realme C12 (Power Blue, 32 GB)   \n",
       "18       realme C12 (Power Silver, 32 GB)   \n",
       "19  realme Narzo 20 (Glory Silver, 64 GB)   \n",
       "20  realme Narzo 20 (Victory Blue, 64 GB)   \n",
       "21           POCO C3 (Arctic Blue, 32 GB)   \n",
       "22   realme Narzo 30A (Laser Blue, 32 GB)   \n",
       "23   realme Narzo 30A (Laser Blue, 64 GB)   \n",
       "\n",
       "   STORAGE RAM & ROM,CAMERA,DISPLAY,PROCESSOR,bATTERY    PRICE  \n",
       "0       4 GB RAM | 64 GB ROM | Expandable Upto 512 GB   ₹7,999  \n",
       "1                    16.59 cm (6.53 inch) HD+ Display   ₹7,999  \n",
       "2                 13MP Rear Camera | 5MP Front Camera   ₹7,999  \n",
       "3                    5000 mAh Lithium Polymer Battery   ₹8,990  \n",
       "4                        MediaTek Helio G25 Processor   ₹7,990  \n",
       "5   Brand Warranty of 1 Year Available for Mobile ...   ₹7,990  \n",
       "6       4 GB RAM | 64 GB ROM | Expandable Upto 512 GB   ₹8,990  \n",
       "7                    16.59 cm (6.53 inch) HD+ Display  ₹10,999  \n",
       "8                 13MP Rear Camera | 5MP Front Camera  ₹11,999  \n",
       "9                    5000 mAh Lithium Polymer Battery   ₹6,799  \n",
       "10                       MediaTek Helio G25 Processor   ₹6,799  \n",
       "11  Brand Warranty of 1 Year Available for Mobile ...   ₹7,990  \n",
       "12      4 GB RAM | 64 GB ROM | Expandable Upto 512 GB  ₹10,999  \n",
       "13                   16.59 cm (6.53 inch) HD+ Display  ₹11,999  \n",
       "14                13MP Rear Camera | 5MP Front Camera  ₹10,999  \n",
       "15                   5000 mAh Lithium Polymer Battery   ₹9,499  \n",
       "16                       MediaTek Helio G25 Processor   ₹8,499  \n",
       "17  Brand Warranty of 1 Year Available for Mobile ...   ₹7,999  \n",
       "18      4 GB RAM | 64 GB ROM | Expandable Upto 256 GB   ₹7,999  \n",
       "19                    15.8 cm (6.22 inch) HD+ Display  ₹10,499  \n",
       "20                      13MP + 2MP | 5MP Front Camera  ₹10,499  \n",
       "21                                   4230 mAh Battery   ₹7,499  \n",
       "22                       MediaTek Helio P35 Processor   ₹8,499  \n",
       "23  Brand Warranty of 1 Year Available for Mobile ...   ₹9,499  "
      ]
     },
     "execution_count": 92,
     "metadata": {},
     "output_type": "execute_result"
    }
   ],
   "source": [
    "Smartphone=pd.DataFrame({})\n",
    "Smartphone[\"BRAND,SMARTPHONE NAME,COLOUR\"]=Brand_Name[0:24]\n",
    "Smartphone[\"STORAGE RAM & ROM,CAMERA,DISPLAY,PROCESSOR,bATTERY\"]=RAM[0:24]\n",
    "Smartphone[\"PRICE\"]=Price[0:24]\n",
    "Smartphone"
   ]
  },
  {
   "cell_type": "code",
   "execution_count": 93,
   "metadata": {},
   "outputs": [],
   "source": [
    "driver.close()"
   ]
  },
  {
   "cell_type": "markdown",
   "metadata": {},
   "source": [
    "# QUES 7"
   ]
  },
  {
   "cell_type": "code",
   "execution_count": 48,
   "metadata": {},
   "outputs": [],
   "source": [
    "#Write a program to scrap all the available details of top 10 gaming laptops from digit.in. "
   ]
  },
  {
   "cell_type": "code",
   "execution_count": 57,
   "metadata": {},
   "outputs": [],
   "source": [
    "import selenium\n",
    "import pandas as pd\n",
    "from selenium import webdriver"
   ]
  },
  {
   "cell_type": "code",
   "execution_count": 58,
   "metadata": {},
   "outputs": [],
   "source": [
    "driver = webdriver.Chrome(r\"E:\\chromedriver.exe\")"
   ]
  },
  {
   "cell_type": "code",
   "execution_count": 59,
   "metadata": {},
   "outputs": [],
   "source": [
    "url=\"https://www.digit.in/\""
   ]
  },
  {
   "cell_type": "code",
   "execution_count": 60,
   "metadata": {},
   "outputs": [],
   "source": [
    "driver.get(url)"
   ]
  },
  {
   "cell_type": "code",
   "execution_count": 61,
   "metadata": {},
   "outputs": [],
   "source": [
    "search_button= driver.find_element_by_xpath(\"//a[@href='#search']\")\n",
    "search_button.click()"
   ]
  },
  {
   "cell_type": "code",
   "execution_count": 62,
   "metadata": {},
   "outputs": [],
   "source": [
    "Gaming_laptop = driver.find_element_by_xpath(\"//input[@type='search']\")\n",
    "Gaming_laptop.send_keys(\"top 10 gaming laptops\")\n"
   ]
  },
  {
   "cell_type": "code",
   "execution_count": 63,
   "metadata": {},
   "outputs": [],
   "source": [
    "Gaming_laptop.click()"
   ]
  },
  {
   "cell_type": "code",
   "execution_count": 89,
   "metadata": {},
   "outputs": [],
   "source": [
    "Product_details=[]"
   ]
  },
  {
   "cell_type": "code",
   "execution_count": 90,
   "metadata": {},
   "outputs": [],
   "source": [
    "for b in driver.find_elements_by_xpath(\"//div[@class='searchProduct-desc']\"):\n",
    "    Product_details.append(b.text)"
   ]
  },
  {
   "cell_type": "code",
   "execution_count": 91,
   "metadata": {},
   "outputs": [
    {
     "data": {
      "text/html": [
       "<div>\n",
       "<style scoped>\n",
       "    .dataframe tbody tr th:only-of-type {\n",
       "        vertical-align: middle;\n",
       "    }\n",
       "\n",
       "    .dataframe tbody tr th {\n",
       "        vertical-align: top;\n",
       "    }\n",
       "\n",
       "    .dataframe thead th {\n",
       "        text-align: right;\n",
       "    }\n",
       "</style>\n",
       "<table border=\"1\" class=\"dataframe\">\n",
       "  <thead>\n",
       "    <tr style=\"text-align: right;\">\n",
       "      <th></th>\n",
       "      <th>PRODUCT</th>\n",
       "    </tr>\n",
       "  </thead>\n",
       "  <tbody>\n",
       "    <tr>\n",
       "      <th>0</th>\n",
       "      <td>ASUS G53J - A 3D gamer's delight but we want more</td>\n",
       "    </tr>\n",
       "    <tr>\n",
       "      <th>1</th>\n",
       "      <td>Asus G750JX-CV069P</td>\n",
       "    </tr>\n",
       "    <tr>\n",
       "      <th>2</th>\n",
       "      <td>HP Envy 15-k006tx</td>\n",
       "    </tr>\n",
       "    <tr>\n",
       "      <th>3</th>\n",
       "      <td>Lenovo IdeaPad Y570</td>\n",
       "    </tr>\n",
       "    <tr>\n",
       "      <th>4</th>\n",
       "      <td>ASUS ROG Cetra</td>\n",
       "    </tr>\n",
       "    <tr>\n",
       "      <th>5</th>\n",
       "      <td>HP Pavilion g6 - Multimedia and gaming on a bu...</td>\n",
       "    </tr>\n",
       "    <tr>\n",
       "      <th>6</th>\n",
       "      <td>MSI Z170A Gaming M7</td>\n",
       "    </tr>\n",
       "    <tr>\n",
       "      <th>7</th>\n",
       "      <td>Top high-end gaming laptops</td>\n",
       "    </tr>\n",
       "    <tr>\n",
       "      <th>8</th>\n",
       "      <td>Top gaming laptops to target</td>\n",
       "    </tr>\n",
       "    <tr>\n",
       "      <th>9</th>\n",
       "      <td>Top gaming laptops under Rs 1 lakh</td>\n",
       "    </tr>\n",
       "  </tbody>\n",
       "</table>\n",
       "</div>"
      ],
      "text/plain": [
       "                                             PRODUCT\n",
       "0  ASUS G53J - A 3D gamer's delight but we want more\n",
       "1                                 Asus G750JX-CV069P\n",
       "2                                  HP Envy 15-k006tx\n",
       "3                                Lenovo IdeaPad Y570\n",
       "4                                     ASUS ROG Cetra\n",
       "5  HP Pavilion g6 - Multimedia and gaming on a bu...\n",
       "6                                MSI Z170A Gaming M7\n",
       "7                        Top high-end gaming laptops\n",
       "8                       Top gaming laptops to target\n",
       "9                 Top gaming laptops under Rs 1 lakh"
      ]
     },
     "execution_count": 91,
     "metadata": {},
     "output_type": "execute_result"
    }
   ],
   "source": [
    "Laptops=pd.DataFrame({})\n",
    "Laptops[\"PRODUCT\"]=Product_details[0:10]\n",
    "Laptops"
   ]
  },
  {
   "cell_type": "markdown",
   "metadata": {},
   "source": [
    "# Ques 6"
   ]
  },
  {
   "cell_type": "code",
   "execution_count": 92,
   "metadata": {},
   "outputs": [],
   "source": [
    "#Write a program to scrap details of all the funding deals for second quarter (i.e. July 20 –September 20) from trak.in."
   ]
  },
  {
   "cell_type": "code",
   "execution_count": null,
   "metadata": {},
   "outputs": [],
   "source": [
    "https://trak.in/india-startup-funding-investment-2015"
   ]
  },
  {
   "cell_type": "code",
   "execution_count": 93,
   "metadata": {},
   "outputs": [],
   "source": [
    "import selenium\n",
    "import pandas as pd\n",
    "from selenium import webdriver"
   ]
  },
  {
   "cell_type": "code",
   "execution_count": 94,
   "metadata": {},
   "outputs": [],
   "source": [
    "driver = webdriver.Chrome(r\"E:\\chromedriver.exe\")"
   ]
  },
  {
   "cell_type": "code",
   "execution_count": 95,
   "metadata": {},
   "outputs": [],
   "source": [
    "url=\"https://trak.in/\""
   ]
  },
  {
   "cell_type": "code",
   "execution_count": 96,
   "metadata": {},
   "outputs": [],
   "source": [
    "driver.get(url)"
   ]
  },
  {
   "cell_type": "code",
   "execution_count": null,
   "metadata": {},
   "outputs": [],
   "source": []
  }
 ],
 "metadata": {
  "kernelspec": {
   "display_name": "Python 3",
   "language": "python",
   "name": "python3"
  },
  "language_info": {
   "codemirror_mode": {
    "name": "ipython",
    "version": 3
   },
   "file_extension": ".py",
   "mimetype": "text/x-python",
   "name": "python",
   "nbconvert_exporter": "python",
   "pygments_lexer": "ipython3",
   "version": "3.8.5"
  }
 },
 "nbformat": 4,
 "nbformat_minor": 4
}
